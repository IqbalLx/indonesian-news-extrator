{
 "metadata": {
  "language_info": {
   "codemirror_mode": {
    "name": "ipython",
    "version": 3
   },
   "file_extension": ".py",
   "mimetype": "text/x-python",
   "name": "python",
   "nbconvert_exporter": "python",
   "pygments_lexer": "ipython3",
   "version": "3.7.3-final"
  },
  "orig_nbformat": 2,
  "kernelspec": {
   "name": "python3",
   "display_name": "Python 3.7.3 64-bit ('ner': conda)",
   "metadata": {
    "interpreter": {
     "hash": "dea382d3a7673047f7b7f3509102591b1458e47757cb6b1ce607f824844fe4c8"
    }
   }
  }
 },
 "nbformat": 4,
 "nbformat_minor": 2,
 "cells": [
  {
   "cell_type": "code",
   "execution_count": 1,
   "metadata": {},
   "outputs": [],
   "source": [
    "import spacy"
   ]
  },
  {
   "cell_type": "code",
   "execution_count": 2,
   "metadata": {},
   "outputs": [
    {
     "output_type": "execute_result",
     "data": {
      "text/plain": [
       "[]"
      ]
     },
     "metadata": {},
     "execution_count": 2
    }
   ],
   "source": [
    "nlp = spacy.blank('id')\n",
    "nlp.pipe_names"
   ]
  },
  {
   "cell_type": "code",
   "execution_count": 3,
   "metadata": {},
   "outputs": [],
   "source": [
    "ner = nlp.create_pipe('ner')\n",
    "nlp.add_pipe(ner)"
   ]
  },
  {
   "cell_type": "code",
   "execution_count": 4,
   "metadata": {},
   "outputs": [],
   "source": [
    "labels = ['ORG', 'PER', 'DTE']\n",
    "for label in labels:\n",
    "    ner.add_label(label)"
   ]
  },
  {
   "cell_type": "code",
   "execution_count": 5,
   "metadata": {},
   "outputs": [],
   "source": [
    "optimizer = nlp.begin_training()"
   ]
  },
  {
   "cell_type": "code",
   "execution_count": 6,
   "metadata": {},
   "outputs": [],
   "source": [
    "import json"
   ]
  },
  {
   "cell_type": "code",
   "execution_count": 7,
   "metadata": {
    "tags": []
   },
   "outputs": [
    {
     "output_type": "stream",
     "name": "stdout",
     "text": [
      "[['4 Spot Romantis Menatap Bintang dan Lampu Kota di Bandung', {'entities': []}], ['Tiga Kunci Pemulihan Ekonomi RI Versi Bank Dunia Country Director untuk Indonesia dan Timor Leste Satu Kahkonen menyebut meski Indonesia terjerat ekonomi pada 2020 akibat pandemi, bukan berarti harapan menuju akan tertutup. Walaupun akan berlangsung panjang dan berat, menurut Kahkonen, peluang pemulihan ekonomi terbuka lebar pada tahun depan. Setidaknya, ada tiga kunci atau hal yang perlu diperhatikan pemerintah jika ingin pemulihan berjalan sesuai harapan. , pemerintah harus mengutamakan kesehatan publik. Karena, untuk dapat membuka perekonomian yang aman dan cepat, kesehatan masyarakat harus menjadi perhatian utama pemerintah. \"Kemampuan melakukan tes dan pelacakan kontak ( ) sangat penting di tengah pandemi covid-19, serta menggiring agar orang-orang mau melakukan vaksin,\" jelasnya pada Press Conference daring, Kamis (17/12). , pemerintah harus memastikan bantuan kepada rumah tangga dan masyarakat rentan tetap dilanjutkan. Di tengah masih terkontraksinya beberapa sektor akibat pandemi, Kahkonen menyebut tak heran angka pengangguran dan setengah menganggur masih menjulang. Badan Pusat Statistik (BPS) mencatat jumlah pengangguran di Indonesia pada Agustus 2020 mencapai 9,77 juta orang. Angka ini naik 2,67 juta dibandingkan periode sama tahun lalu. Sementara, untuk tingkat pengangguran terbuka (TPT) pada Agustus 2020 naik menjadi sebesar 7,07 persen Realisasi naik dari posisi Agustus 2019, yakni sebesar 5,23 persen. Karenanya, bantuan harus diberikan kepada mereka demi memastikan kelompok rentan digandeng jalan beriringan memasuki masa transisi menuju pemulihan. \"Ada banyak perusahaan kecil dan menengah yang menghadapi ketidakpastian mengenai masa depannya. Untuk dapat memulihkan kondisi ini, baik di tingkat rumah tangga maupun skala kecil, perlu dilakukan upaya terukur yang baik,\" imbuhnya. , menyiapkan strategi mumpuni untuk bisa memenuhi kebutuhan fiskal. Ia bilang ke depannya tantangan yang dihadapi adalah menyusun exit strategy dari dukungan kebijakan skala besar demi mendukung pemulihan. Menurut Kahkonen, Pemerintahan Presiden Joko Widodo (Jokowi) sepanjang pandemi corona telah mengeluarkan kebijakan makro yang tanggap. Ini perlu diteruskan di 2021. Dia mengusulkan untuk memberi prioritas pada reformasi sistem perpajakan sebagai cara untuk meringankan tekanan fiskal. Hal ini dapat dicapai dengan meningkatkan pajak penghasilan bagi mereka yang memiliki pendapatan terbesar dan menaikkan cukai untuk produk-produk yang mengakibatkan dampak negatif bagi kesehatan maupun lingkungan. Contohnya, bahan bakar fosil, tembakau, minuman berpemanis gula dan kantong plastik.', {'entities': [[29, 42, 'ORG'], [98, 111, 'PER'], [277, 285, 'PER'], [1092, 1113, 'ORG'], [1115, 1118, 'ORG'], [2069, 2080, 'PER'], [2082, 2088, 'PER'], [2108, 2114, 'PER'], [159, 163, 'DTE'], [332, 343, 'DTE'], [826, 839, 'DTE'], [1167, 1179, 'DTE'], [1257, 1267, 'DTE'], [1399, 1411, 'DTE']]}], ['Bus BSL-2 BPPT Meluncur Tingkatkan Tes Covid-19 di Nusantara Badan Pengkajian dan Penerapan Teknologi (BPPT) meluncurkan Mobile Laboratory Bio Safety Level dua (BSL-2) tipe bus untuk melakukan tes swab guna optimalisasi penanganan pasien Covid-19 di berbagai wilayah. Kepala BPPT Hammam Riza menuturkan bahwa pembangunan fasilitas laboratorium BSL-2 dalam bus tersebut, ditujukan untuk lebih menjangkau daerah yang membutuhkan. \"Versi bus ini ditujukan untuk memperkuat konsep mobilitas sehingga dapat dioperasikan ke daerah yang membutuhkan. Kami juga telah melakukan penyempurnaan layout peralatan, mengaplikasikan sistem pada pintu, dan penambahan ekstraksi RNA,\" jelas Hammam di Graha BNPB, Jakarta, Rabu (16/12). Hammam menyatakan mobile lab BSL-2 ini dibangun dengan platform bus, untuk memperkuat konsep mobilitas, sehingga dapat mudah dioperasikan di daerah yang membutuhkan. Kemudian juga terdapat penambahan fasilitas untuk ekstraksi RNA, sehingga dapat menggunakan reagen yang lebih bervariasi untuk menjaga keberlanjutan pengujian. \"Pada BSL-2 tipe bus ini juga kami lakukan penyempurnaan layout peralatan, untuk meningkatkan akurasi data dan keamanan personil penguji. Selain itu penyempurnaan ditambahkan pada sistem mekanik pintu yang dapat dibuka tutup secara , untuk menghindari kontaminasi,\" terang Hammam. Perlu diketahui bahwa BPPT sangat berfokus dalam peningkatan kapasitas pengujian Covid-19, dimana sebelumnya juga telah diluncurkan inovasi mobile lab BSL-2 tipe kontainer/trailer, yang dapat dipindah-operasikan ke berbagai daerah. Mobile lab berbasis kontainer itu pun telah beroperasi di beberapa tempat di Indonesia, seperti di Jakarta TImur, Plaju Palembang dan Medan Sumatra Utara. Sebagaimana dengan varian sebelumnya itu pun, Mobile lab BSL-2 tipe bus ini dibangun bersama dengan mitra Industri dengan mengikuti standar WHO dan Kementerian kesehatan untuk laboratorium pengujian PCR untuk COVID-19, dan telah diverifikasi oleh Asosiasi Biorisiko Indonesia. \"Mobile lab BSL-2 varian bus ini akan segera dioperasikan di berbagai tempat di Indonesia sebagai bagian dari kegiatan Bakti Inovasi Indonesia. Mobile lab ini direncanakan akan roadshow ke UGM - Yogyakarta, Dinas Kesehatan Denpasar - Bali, dan Ponpes Darul Ulum Jombang (Jawa Timur) untuk membantu pengujian sampel Covid-19 di daerah tersebut mulai tanggal 16 Desember 2020 dan direncanakan akan kembali ke BPPT pada tanggal 29 Desember 2020,\" papar Hammam. Sementara itu, Kepala BNPB Doni Monardo juga menyebut Mobile Lab BSL-2 buatan BPPT ini menjadi sebuah solusi bagi penanganan Covid-19 di Indonesia. \"Mobile lab BSL-2 versi Bus ini adalah jawaban untuk menutupi kekurangan testing di berbagai daerah yg mengalami peningkatan jumlah terkonfimasi COVID19,\" ujarnya.', {'entities': [[61, 101, 'ORG'], [103, 107, 'ORG'], [280, 291, 'PER'], [673, 679, 'PER'], [1812, 1826, 'ORG'], [1959, 1987, 'ORG'], [2196, 2220, 'ORG'], [2469, 2473, 'ORG'], [2474, 2486, 'PER'], [704, 716, 'DTE'], [2346, 2362, 'DTE'], [2414, 2430, 'DTE']]}], ['Doni Monardo Usul Revisi UU Kekarantinaan Kesehatan Kepala Badan Nasional Penanggulangan Bencana (BNPB) mengusulkan agar Undang-undang Nomor 6 Tahun 2018 tentang direvisi. Menurutnya, revisi perlu dilakukan mengingat UU Kekarantinaan Kesehatan dibuat ketika Indonesia belum memiliki pengalaman menghadapi wabah virus corona (covid-19) seperti saat ini. \"Perlunya ada revisi UU Nomor 6 Tahun 2018 tentang Kekarantinaan Kesehatan karena mungkin ketika UU ini dibuat, pengalaman kita belum cukup,\" kata Doni dalam acara \"Buku Putih Penanganan Pandemi Covid-19 di Indonesia\" secara virtual, Kamis (17/12). Dia menerangkan, revisi UU Kekarantinaan Kesehatan dapat dilakukan untuk memasukkan sejumlah hal yang bersifat detail. Menurutnya, revisi juga dapat dilakukan untuk mengatur kewenangan pemerintah pusat dan daerah dalam menangani wabah agar tidak terjadi tumpang tindih di masa mendatang. Doni berkata, revisi UU Kekarantinaan Kesehatan akan membuat pemerintah lebih siap bila Indonesia kembali diserang wabah. \"Maka kita bisa bekerja lebih baik lagi karena didukung oleh regulasi, payung hukum untuk melakukan tanggung jawab,\" ujar Ketua Satgas Penanganan Covid-19 itu. UU Kekarantinaan Kesehatan diteken Presiden Joko Widodo pada 2018 silam. Dalam regulasi itu, terdapt empat jenis karantina yang bisa dipilih pemerintah dalam menghadapi situasi darurat kesehatan masyarakat yaitu karantina rumah, karantina wilayah, karantina rumah sakit, serta pembatasan sosial berskala besar atau PSBB. Jokowi sendiri akhirnya memilih PSBB untuk menghadapi pandemi Covid-19 pada awal April 2020. Dalam UU tersebut juga mengatur tentang kewajiban pemerintah untuk memenuhi kebutuhan hidup dasar masyarakat, termasuk makanan bagi hewan-hewan ternak milik warga apabila menerapkan karantina wilayah.', {'entities': [[0, 24, 'PER'], [59, 96, 'ORG'], [98, 102, 'ORG'], [500, 504, 'PER'], [1140, 1166, 'ORG'], [1216, 1227, 'PER'], [1487, 1491, 'ORG'], [1493, 1499, 'PER'], [587, 600, 'DTE'], [1233, 1237, 'DTE'], [1574, 1584, 'DTE']]}], ['Reaksi Alami Umum yang Muncul Usai Vaksin Seluruh dunia tengah berupaya mencari Covid-19 untuk mengatasi pandemi. Jika terbukti efektif, vaksin ini dapat digunakan secara luas. Indonesia sendiri sudah menjajaki pembelian sejumlah vaksin, dengan salah satu yang sudah didatangkan adalah 1,2 juta dosis Sinovac, vaksin yang dikembangkan produsen dari China. Presiden Jokowi sudah mengungkapkan soal vaksin corona gratis untuk masyarakat. Hanya saja belakangan juga viral terkait efek samping usai suntik vaksin virus corona. Bicara tentang vaksin secara umum, Anda pasti sudah paham ada beberapa rangkaian vaksin dan imunisasi yang diberikan bahkan sejak usia dini. Beragam efek samping atau yang lebih tepat disebut sebagai reaksi alami tubuh pun muncul pascavaksinasi. Ketua Perhimpunan Alergi Imunologi Indonesia, Profesor dokter Iris Rengganis, menyatakan bahwa vaksin yang sudah terbukti efektif dan sudah disetujui oleh Badan POM, aman digunakan oleh masyarakat luas. \"Vaksin aman dan efektif untuk mencegah penyakit. Tapi, kita juga mesti memberi edukasi bahwa tidak ada yang 100 persen, artinya mungkin masih bisa terkena (virus), tapi tidak seberat jika tidak divaksin. Begitu juga dengan vaksin Covid-19 yang sedang diuji, kita tunggu hasil interim reportnya,\" tutur Iris kepada CNNIndonesia.com, Kamis (17/12). \"Efek samping atau efek simpang saat divaksin itu biasa. Setiap vaksin ada efek simpangnya. Tetapi, ini tidak berarti apa-apa. Biasanya dua hingga tiga hari akan hilang.\" Vaksin adalah metode yang aman dan efektif untuk melindungi orang dari penyakit. Vaksin dilakukan dengan cara menyuntikkan virus atau bakteri yang sudah dilemahkan ke dalam tubuh. Cara ini akan melatih sistem kekebalan tubuh untuk membentuk antibodi untuk dapat melawan infeksi yang datang di masa depan. Proses inilah yang menyebabkan munculnya sejumlah efek samping ringan saat divaksin. Berikut efek samping yang umumnya muncul saat divaksin. 1. Nyeri pada bekas suntikan 2. Kemerahan pada bekas suntikan 3. Pegal pada lengan atau area suntikan 4. Demam ringan. \"Di tempat disuntik tentu respons pasti nyeri, kemerahan. Itu reaksi sekitar bahwa ada respons, terbentuk sel-sel mendatangi lokasi suntikan. Kemudian, ada pembengkakan sebab benda asing datang, sebetulnya mengusir sambil membentuk kekebalan,\" ucap Hindra Irawan, profesor sekaligus Ketua Komnas KIPI (Kejadian Ikutan Pasca Imunisasi) dan anggota ITAGI kepada ., Kamis (17/12). Efek samping ini biasanya akan hilang dalam dua atau tiga hari. Efek samping yang berat seperti alergi berat atau komplikasi biasanya sangat jarang terjadi. \"(Kalau) menyebar ke seluruh tubuh , demam, lemas, gangguan nafsu makan, gejala lain. Namun biasanya sifatnya ringan dan sembuh sendirinya. Itu kan reaksi umum manusia makhluk hidup, menggerakkan sel, mediator. itu alamiah tubuh .\" Hindra menambahkan reaksi alami atau yang kerap dianggap sebagai efek samping untuk anak-anak dan dewasa adalah sama. Namun dalam beberapa kasus, anak mengalami kejang usai vaksin. Hal ini pun juga disebut punya alasan lain. \"Kondisi susunan saraf anak itu belum Kemudian mungkin ada riwayat keluarga, sehingga kejang kalau demam terlalu tinggi. Kejangnya gara-gara demam,\" kata dia. \"Anak mungkin alergi komponen vaksin. Komponen vaksin kan macam-macam: ada zat aktif (virus yang dilemahkan tadi), vaksin itu musti dipertahankan pada suhu ideal dan diperkuat ada pengawet, antibiotik biar ga terkontaminasi bakteri, ajuvan agar daya lindung berlipat, dan preservatif (pengawet). Itu komponen bisa memberikan reaksi alergi. Kalau ada hipersensitif reaksi tubuh bisa berlebihan. Tapi ada yang kebal, jadi reaksi nggak ada.\" Kapan reaksi alami usai vaksin ini berlebihan dan harus dibawa ke dokter Hindra mengungkapkan, untuk anak, secara teoritis reaksi alami seharusnya tidak berkepanjangan. Ketika reaksi alami itu berlangsung lebih lama dari biasanya (beberapa hari sampai seminggu), barulah anak perlu diperiksakan. \"Harusnya bengkak hilang dalam tiga hari sampai seminggu, ini nggak hilang lebih dari seminggu. Kemerahan harusnya 3-5 hari saja, ini masih ada. Demam cukup semalam, ini besoknya masih. Anak kejang mungkin kolik, bisa dibawa ke dokter.\" Untuk orang dewasa, kasus-kasus reaksi alami juga demikian. Bengkak biasanya berlangsung satu atau dua malam, sementara nyeri bisa berlangsung seminggu. Reaksi demam biasanya berlangsung ringan dan sebentar. \"Kalau malah 39 derajat atau (demamnya) sampai 3-5 hari, ini musti dicek,\" kata Hindra.', {'entities': [[80, 88, 'ORG'], [365, 371, 'PER'], [404, 410, 'PER'], [775, 813, 'ORG'], [815, 845, 'PER'], [924, 933, 'ORG'], [1275, 1279, 'PER'], [2305, 2318, 'PER'], [2345, 2356, 'ORG'], [2403, 2408, 'ORG'], [2823, 2829, 'PER'], [3712, 3725, 'PER'], [1305, 1318, 'DTE']]}], ['Pandemi, Pelantikan Biden-Harris Hanya Undang 1.000 Orang Panitia kongres yang menyelenggarakan upacara pelantikan Presiden Amerika Serikat terpilih dan Wapres menegaskan undangan akan berkurang drastis dibandingkan acara serupa di luar pandemi . Komite Kongres Bersama untuk Upacara Pelantikan mengumumkan bahwa acara tersebut hanya akan membagikan 1.000 tiket, masing-masing untuk 535 anggota Kongres dan satu tamu. Proses pelantikan rencananya akan dilakukan pada 20 Januari di luar Gedung Capitol. Jumlah tersebut menurun drastis dibandingkan pelantikan presiden yang dihadiri oleh 200 ribu undangan dari anggota Kongres dan konstituen mereka. Ketua Komite Senator Roy Blunt, R-MO mengatakan jumlah tiket yang diundang untuk menghadiri pelantikan berkurang drastis karena muncul kekhawatiran terjadi lonjakan infeksi corona ketika warga berkerumun. \"Ini keputusan sulit untuk membatasi undangan pada upacara pelantikan presiden ke-59 bagi mereka yang ingin menyaksikan langsung di seluruh negeri,\" ujar Blunt dalam sebuah pernyataan seperti mengutip . Komite pelantikan Biden yang bekerja dengan komite kongres, sejauh ini telah meminta para pendukung untuk tidak datang ke Washington demi melihat langsung prosesi bersejarah tersebut. Alih-alih datang ke Gedung Putih, tim Biden berencana menyaksikan perayaan pelantikan di rumah. \"Kami tahu bahwa banyak orang Amerika ingin menghadiri pelantikan secara lansgung. Pada saat yangs ama, keselamatan harus menjadi prioritas utama kami,\" kata Senator Amy Klobucher, anggota komite pelantikan Biden sekaligus politisi Demokrat dari Minnesota dalam pernyataannya. \"Sementara pandemi telah memaksa kami untuk membatasi kehadiran secara langsung, itu juga membawa peluang untuk menghormati proses demokrasi dengan cara yang inovatif sehingga orang Amerika di seluruh negeri dapat merasakan pengalaman serupa dari rumah.\" Sejak masa kampanye, tim Biden sebagian besar telah mengadopsi sistem virtual. Dalam sebuah kesempatan, Biden \\'bertemu\\' dengan para pendukungnya dari setiap negara bagian. Nantinya ketika pelantikan virtual, tim yang sama juga akan menggabungkan dukungan dari setiap negara bagian ke dalam satu layar. Kemenangan Biden dan Harris atas pasangan Donald Trump-Mike Pence kian dikukuhkan dalam pemungutan suara elektoral (electoral college) pada Senin (14/12). Sekitar 55 pemilih California, negara bagian terbesar di AS berkumpul di Sacramento untuk memilih Biden. Kemenangan ini menjadikan Demokrat melampaui ambang perolehan minimal 270 suara elektoral untuk memperkuat kemenangan.', {'entities': [[20, 25, 'PER'], [26, 32, 'PER'], [395, 402, 'ORG'], [669, 684, 'PER'], [821, 827, 'PER'], [1007, 1012, 'PER'], [1178, 1188, 'ORG'], [1502, 1515, 'PER'], [1568, 1576, 'ORG'], [1972, 1979, 'PER'], [2212, 2224, 'PER'], [2225, 2235, 'PER'], [2398, 2408, 'ORG'], [467, 477, 'DTE'], [2310, 2323, 'DTE']]}], ['Ridwan Kamil Bantah Mahfud: Saya Tenang, Tidak Mungkin Panik Gubernur Jawa Barat membantah pernyataan Menteri Koordinator Bidang Politik, Hukum, dan Keamanan (Menko Polhukam) yang menilai dirinya panik setelah dimintai keterangan di Markas Polda Jabar. \"Saya ini tenang, tidak mungkin panik. Ngomong aja santai, silakan teman-teman (wartawan) menafsirkan sendiri-sendiri,\" ujar Ridwan Kamil kepada sejumlah wartawan seusai menghadiri acara puncak HUT Ke-62 Provinsi Nusa Tenggara Barat (NTB) di Kantor Gubernur NTB di Mataram, seperti dikutip Antara, Kamis (17/12). Pria yang akrab disapa Emil itu mengatakan poin paling penting dari pernyataannya seusai diperiksa di Mapolda Jabar yaitu keadilan harus proporsional. \"Siapa yang bertanggung jawab dari awal sampai akhir, semua harus mendapatkan hak dan kewajiban yang sama di mata hukum. Oleh karena itu saya kira tidak akan memperpanjang,\" ucapnya. Dia mengatakan apa yang disampaikan dan telah terjadi dijadikan sebagai pengingat bahwa bangsa Indonesia perlu melakukan hal-hal yang produktif, apalagi saat bangsa dan negara menghadapi pandemi virus corona. \"Semoga ini jadi pengingat betapa bangsa ini perlu hal yang produktif apalagi lagi kita dalam keadaan Covid-19,\" ujarnya. Sebelumnya Ridwan Kamil menyebut Mahfud mesti bertanggung jawab atas rentetan kerumunan massa sejak kedatangan Rizieq Shihab dari Arab Saudi pada 10 November lalu. \"Menurut saya, semua kekisruhan yang berlarut-larut ini dimulai sejak adanya statemen dari Pak Mahfud, di mana penjemputan HRS ini diizinkan,\" ujar Ridwan Kamil usai menjalani pemeriksaan di Mapolda Jawa Barat, Bandung, Rabu (16/12). Mahfud pun menjawab permintaan Ridwan Kamil untuk bertanggung jawab terkait kerumunan massa pendukung Rizieq. \"Siap, Kang RK. Saya bertanggung jawab. Saya yang umumkan HRS diizinkan pulang ke Indonesia karena dia punya hak hukum untuk pulang,\" kata Mahfud melalui akun Twitternya @mohmahfudmd yang terpantau di Jakarta, Rabu. Mahfud mengakui bahwa dirinya yang mengumumkan agar Rizieq boleh dijemput asal tertib dan tidak melanggar protokol kesehatan. Mahfud melanjutkan bahwa diskresi yang diberikan pemerintah hanya sebatas penjemputan dan pengantaran Rizieq dari Bandara Soekarno-Hatta hingga ke Petamburan. Mahfud pun berdalih bahwa penjemputan Rizieq di Bandara Soekarno-Hatta sudah berjalan tertib hingga pentolan FPI itu tiba di Petamburan pada sore harinya. \"Akan tetapi, acara pada malam dan hari-hari berikutnya yang menimbulkan kerumunan, sudah di luar diskresi yang saya umumkan,\" ujar Mahfud. Mahfud pun mengingatkan semua pihak, termasuk pejabat negara, agar tidak panik ketika dipanggil aparat kepolisian. \"Pejabat atau siapapun dipanggil oleh polisi itu enggak usah panik,\" kata Mahfud saat menggelar konferensi pers usai menghadiri acara Penyerahan Hasil Evaluasi dan Rekomendasi Kebijakan Kementerian/Lembaga di Bidang Kesatuan Bangsa yang juga digelar secara live, Rabu (16/12) malam.', {'entities': [[0, 12, 'PER'], [20, 26, 'PER'], [589, 593, 'PER'], [995, 1004, 'ORG'], [1211, 1219, 'ORG'], [1342, 1355, 'PER'], [1731, 1737, 'PER'], [1746, 1753, 'PER'], [1909, 1921, 'PER'], [2212, 2217, 'PER'], [2349, 2352, 'ORG'], [2836, 2847, 'ORG'], [2848, 2881, 'ORG'], [551, 564, 'DTE'], [1377, 1388, 'DTE'], [1615, 1627, 'DTE'], [1949, 1953, 'DTE']]}]]\n"
     ]
    }
   ],
   "source": [
    "with open(\"dataset/spacy/datasets_2020_12_17.json\", \"r\") as train_data:\n",
    "    train_data = json.load(train_data)\n",
    "\n",
    "print(train_data)"
   ]
  },
  {
   "cell_type": "code",
   "execution_count": 8,
   "metadata": {},
   "outputs": [],
   "source": [
    "from spacy.util import minibatch, compounding"
   ]
  },
  {
   "cell_type": "code",
   "execution_count": 12,
   "metadata": {
    "tags": []
   },
   "outputs": [
    {
     "output_type": "stream",
     "name": "stdout",
     "text": [
      "\n",
      "\n",
      "Losses {'ner': 23.910805583931506}\n",
      "\n",
      "\n",
      "Losses {'ner': 22.91224241954967}\n",
      "\n",
      "\n",
      "Losses {'ner': 23.302530399727402}\n",
      "\n",
      "\n",
      "Losses {'ner': 21.882996152065772}\n",
      "\n",
      "\n",
      "Losses {'ner': 38.00268196514935}\n",
      "\n",
      "\n",
      "Losses {'ner': 34.95657806949498}\n",
      "\n",
      "\n",
      "Losses {'ner': 15.948345434642235}\n",
      "\n",
      "\n",
      "Losses {'ner': 10.634098812800215}\n",
      "\n",
      "\n",
      "Losses {'ner': 10.096762637755708}\n",
      "\n",
      "\n",
      "Losses {'ner': 19.662259049277086}\n",
      "\n",
      "\n",
      "Losses {'ner': 24.146952277890932}\n",
      "\n",
      "\n",
      "Losses {'ner': 23.90554182797132}\n",
      "\n",
      "\n",
      "Losses {'ner': 13.526270331560227}\n",
      "\n",
      "\n",
      "Losses {'ner': 19.720747947633743}\n",
      "\n",
      "\n",
      "Losses {'ner': 7.041301112423483}\n",
      "\n",
      "\n",
      "Losses {'ner': 11.44657660061418}\n",
      "\n",
      "\n",
      "Losses {'ner': 29.05058817518808}\n",
      "\n",
      "\n",
      "Losses {'ner': 6.212269000249194}\n",
      "\n",
      "\n",
      "Losses {'ner': 5.222284570617489}\n",
      "\n",
      "\n",
      "Losses {'ner': 8.299632708634334}\n",
      "\n",
      "\n",
      "Losses {'ner': 4.263153833242441}\n",
      "\n",
      "\n",
      "Losses {'ner': 6.770447854385722}\n",
      "\n",
      "\n",
      "Losses {'ner': 4.274243796097725}\n",
      "\n",
      "\n",
      "Losses {'ner': 0.7020032562450965}\n",
      "\n",
      "\n",
      "Losses {'ner': 8.668635663766874}\n",
      "\n",
      "\n",
      "Losses {'ner': 4.77567935603102}\n",
      "\n",
      "\n",
      "Losses {'ner': 2.5267786578403113}\n",
      "\n",
      "\n",
      "Losses {'ner': 5.646929247407051}\n",
      "\n",
      "\n",
      "Losses {'ner': 6.350110207369514}\n",
      "\n",
      "\n",
      "Losses {'ner': 2.354200501902678}\n",
      "\n",
      "\n",
      "Losses {'ner': 1.794578928518739}\n",
      "\n",
      "\n",
      "Losses {'ner': 13.495214354921872}\n",
      "\n",
      "\n",
      "Losses {'ner': 1.508042539946513}\n",
      "\n",
      "\n",
      "Losses {'ner': 2.513477770456409}\n",
      "\n",
      "\n",
      "Losses {'ner': 0.46841347520780635}\n",
      "\n",
      "\n",
      "Losses {'ner': 5.3763442661861145}\n",
      "\n",
      "\n",
      "Losses {'ner': 1.0749786850571557}\n",
      "\n",
      "\n",
      "Losses {'ner': 5.1713147053049795}\n",
      "\n",
      "\n",
      "Losses {'ner': 4.337193228523759}\n",
      "\n",
      "\n",
      "Losses {'ner': 9.64194554741954}\n",
      "\n",
      "\n",
      "Losses {'ner': 0.3246329904676486}\n",
      "\n",
      "\n",
      "Losses {'ner': 3.8864489534706324}\n",
      "\n",
      "\n",
      "Losses {'ner': 5.837321763954693}\n",
      "\n",
      "\n",
      "Losses {'ner': 4.148531794806381}\n",
      "\n",
      "\n",
      "Losses {'ner': 9.390455431162922}\n",
      "\n",
      "\n",
      "Losses {'ner': 3.0869090711618052}\n",
      "\n",
      "\n",
      "Losses {'ner': 7.1416443255942905}\n",
      "\n",
      "\n",
      "Losses {'ner': 1.7266585694227063}\n",
      "\n",
      "\n",
      "Losses {'ner': 1.7900548875478535}\n",
      "\n",
      "\n",
      "Losses {'ner': 3.112917918728783}\n",
      "\n",
      "\n",
      "Losses {'ner': 7.405360677611398}\n",
      "\n",
      "\n",
      "Losses {'ner': 1.8746140992179776}\n",
      "\n",
      "\n",
      "Losses {'ner': 2.3265225681541892}\n",
      "\n",
      "\n",
      "Losses {'ner': 3.586362905036795}\n",
      "\n",
      "\n",
      "Losses {'ner': 2.592708046698979}\n",
      "\n",
      "\n",
      "Losses {'ner': 0.21984135725666162}\n",
      "\n",
      "\n",
      "Losses {'ner': 11.54263774973247}\n",
      "\n",
      "\n",
      "Losses {'ner': 2.696020373897238}\n",
      "\n",
      "\n",
      "Losses {'ner': 5.197596033769599}\n",
      "\n",
      "\n",
      "Losses {'ner': 1.5743963222691273}\n",
      "\n",
      "\n",
      "Losses {'ner': 4.109851639310659}\n",
      "\n",
      "\n",
      "Losses {'ner': 8.285808749997999}\n",
      "\n",
      "\n",
      "Losses {'ner': 1.4624664760459387}\n",
      "\n",
      "\n",
      "Losses {'ner': 0.41850457580568884}\n",
      "\n",
      "\n",
      "Losses {'ner': 6.750307471030938}\n",
      "\n",
      "\n",
      "Losses {'ner': 3.2748183445857038}\n",
      "\n",
      "\n",
      "Losses {'ner': 0.09770812439400105}\n",
      "\n",
      "\n",
      "Losses {'ner': 4.931751214237522}\n",
      "\n",
      "\n",
      "Losses {'ner': 1.0912332102656581}\n",
      "\n",
      "\n",
      "Losses {'ner': 13.834937243879958}\n",
      "\n",
      "\n",
      "Losses {'ner': 2.2687891330948564}\n",
      "\n",
      "\n",
      "Losses {'ner': 1.8248223753727508}\n",
      "\n",
      "\n",
      "Losses {'ner': 1.2833944766893823}\n",
      "\n",
      "\n",
      "Losses {'ner': 4.566994285231439}\n",
      "\n",
      "\n",
      "Losses {'ner': 1.1494762128932265}\n",
      "\n",
      "\n",
      "Losses {'ner': 0.34683660624376433}\n",
      "\n",
      "\n",
      "Losses {'ner': 0.2661110065971963}\n",
      "\n",
      "\n",
      "Losses {'ner': 0.9700251024398096}\n",
      "\n",
      "\n",
      "Losses {'ner': 4.212689260754153}\n",
      "\n",
      "\n",
      "Losses {'ner': 0.4939751621203599}\n",
      "\n",
      "\n",
      "Losses {'ner': 0.18653504683855232}\n",
      "\n",
      "\n",
      "Losses {'ner': 1.882039962284956}\n",
      "\n",
      "\n",
      "Losses {'ner': 0.07440074220339597}\n",
      "\n",
      "\n",
      "Losses {'ner': 2.9279416518621857}\n",
      "\n",
      "\n",
      "Losses {'ner': 0.049729983566277634}\n",
      "\n",
      "\n",
      "Losses {'ner': 1.9043325196722178}\n",
      "\n",
      "\n",
      "Losses {'ner': 0.7138780939815377}\n",
      "\n",
      "\n",
      "Losses {'ner': 0.09149018707662622}\n",
      "\n",
      "\n",
      "Losses {'ner': 0.46821191070101476}\n",
      "\n",
      "\n",
      "Losses {'ner': 5.233099892956803}\n",
      "\n",
      "\n",
      "Losses {'ner': 10.765621786152408}\n",
      "\n",
      "\n",
      "Losses {'ner': 4.1964188630229025}\n",
      "\n",
      "\n",
      "Losses {'ner': 0.634460456613217}\n",
      "\n",
      "\n",
      "Losses {'ner': 0.07444712934640466}\n",
      "\n",
      "\n",
      "Losses {'ner': 2.912768143215857}\n",
      "\n",
      "\n",
      "Losses {'ner': 3.729076240013587}\n",
      "\n",
      "\n",
      "Losses {'ner': 3.7850154649969725}\n",
      "\n",
      "\n",
      "Losses {'ner': 0.3357324403476319}\n",
      "\n",
      "\n",
      "Losses {'ner': 8.87863549588222}\n",
      "\n",
      "\n",
      "Losses {'ner': 0.26224253963091093}\n"
     ]
    }
   ],
   "source": [
    "for itn in range(100):\n",
    "    losses = {}\n",
    "    batches = minibatch(train_data, size=compounding(4., 32., 1.001))\n",
    "    for batch in batches:\n",
    "        texts, annotations = zip(*batch)\n",
    "        nlp.update(texts, annotations, sgd=optimizer, drop=0.35,\n",
    "                    losses=losses)\n",
    "    print('Losses', losses)"
   ]
  },
  {
   "cell_type": "code",
   "execution_count": 16,
   "metadata": {},
   "outputs": [
    {
     "output_type": "stream",
     "name": "stdout",
     "text": [
      "Entities in 'Tiga Kunci Pemulihan Ekonomi RI Versi Bank Dunia Country Director untuk Indonesia dan Timor Leste Satu'\nORG RI Versi Bank\nPER Satu\n"
     ]
    }
   ],
   "source": [
    "# Test the trained model\n",
    "test_text = 'Tiga Kunci Pemulihan Ekonomi RI Versi Bank Dunia Country Director untuk Indonesia dan Timor Leste Satu'\n",
    "doc = nlp(test_text)\n",
    "print(\"Entities in '%s'\" % test_text)\n",
    "for ent in doc.ents:\n",
    "    print(ent.label_, ent.text)"
   ]
  },
  {
   "cell_type": "code",
   "execution_count": 15,
   "metadata": {},
   "outputs": [
    {
     "output_type": "execute_result",
     "data": {
      "text/plain": [
       "(Rizieq shihab,)"
      ]
     },
     "metadata": {},
     "execution_count": 15
    }
   ],
   "source": [
    "doc.ents"
   ]
  },
  {
   "cell_type": "code",
   "execution_count": 17,
   "metadata": {},
   "outputs": [],
   "source": [
    "# save model\n",
    "nlp.meta[\"name\"] = \"init\"\n",
    "nlp.to_disk(\"ner_training/model/\")"
   ]
  },
  {
   "cell_type": "code",
   "execution_count": 18,
   "metadata": {},
   "outputs": [
    {
     "output_type": "stream",
     "name": "stdout",
     "text": [
      "PER Rizieq shihab\n"
     ]
    }
   ],
   "source": [
    "# load model\n",
    "model = spacy.load(\"ner_training/model/\")"
   ]
  },
  {
   "cell_type": "code",
   "execution_count": 19,
   "metadata": {},
   "outputs": [
    {
     "output_type": "stream",
     "name": "stdout",
     "text": [
      "Rizieq shihab\nPER Rizieq shihab\n"
     ]
    }
   ],
   "source": [
    "test = model(test_text)\n",
    "for ent in test.ents:\n",
    "    print(ent)\n",
    "    print(ent.label_, ent.text)"
   ]
  },
  {
   "cell_type": "code",
   "execution_count": null,
   "metadata": {},
   "outputs": [],
   "source": []
  }
 ]
}